{
  "nbformat": 4,
  "nbformat_minor": 0,
  "metadata": {
    "kernelspec": {
      "display_name": "Python 3",
      "language": "python",
      "name": "python3"
    },
    "language_info": {
      "codemirror_mode": {
        "name": "ipython",
        "version": 3
      },
      "file_extension": ".py",
      "mimetype": "text/x-python",
      "name": "python",
      "nbconvert_exporter": "python",
      "pygments_lexer": "ipython3",
      "version": "3.7.3"
    },
    "colab": {
      "provenance": [],
      "include_colab_link": true
    }
  },
  "cells": [
    {
      "cell_type": "markdown",
      "metadata": {
        "id": "view-in-github",
        "colab_type": "text"
      },
      "source": [
        "<a href=\"https://colab.research.google.com/github/ju-vargas/Classificacao-e-Pesquisa-de-Dados/blob/main/Lab03/labCPD_03_CPP.ipynb\" target=\"_parent\"><img src=\"https://colab.research.google.com/assets/colab-badge.svg\" alt=\"Open In Colab\"/></a>"
      ]
    },
    {
      "cell_type": "markdown",
      "metadata": {
        "id": "LTM-tQSzRO2b"
      },
      "source": [
        "# Disciplina de Classificação e Pesquisa de Dados\n",
        " \n",
        "# Laboratório #3 - Final\n",
        " \n",
        "### Implementação e comparação (em C++) dos principais algoritmos de classificação por seleção, intercalação e lineares."
      ]
    },
    {
      "cell_type": "markdown",
      "metadata": {
        "id": "AkA1bR3jUN8v"
      },
      "source": [
        "## Exercício I: algoritmos de seleção (Heapsort e relacionados)\n",
        "\n",
        "Utilizando a versão padrão do `heapsort` que você implementou na aula sobre \"**Classificação por seleção: parte 2**\", faça uma análise de desempenho dele para arrays de tamanho 100, 1000 e 10000, tanto crescentes quanto decrescentes. Registre o tempo de processamento, a quantidade de trocas e a quantidade de comparaçoes.\n",
        "\n",
        "Se você não elaborou o algoritmo naquela ocasião, implemente-o agora. Não se esqueça de que ele é um algoritmo local e que usa funções auxiliares (as quais estão disponíveis no material daquela aula). Você pode usar suas próprias funções ou estruturá-lo de outra forma, se desejar, mas ele deve seguir as mesmas regras e preceitos.\n",
        "\n",
        "Observação: naquela aula não foi solicitado o encaminhamento dos exercícios. Haviam outras tarefas e comparações. Se você desejar um feedback sobre elas, encaminhe suas soluções ao final deste arquivo."
      ]
    },
    {
      "cell_type": "code",
      "metadata": {
        "id": "nOWvfug_RO2l",
        "colab": {
          "base_uri": "https://localhost:8080/"
        },
        "outputId": "472c4774-cd67-47e4-88c1-52700f86714e"
      },
      "source": [
        "%%writefile hs_test.cpp\n",
        "#include<iostream>\n",
        "#include<tuple>\n",
        "#include<string>\n",
        "#include<vector>\n",
        "#include<unordered_map>\n",
        "#include<bits/stdc++.h>\n",
        "#include<map>\n",
        "#include<chrono>\n",
        "\n",
        "using namespace std;\n",
        "\n",
        "// Definições e variáveis globais necessárias\n",
        "typedef int element_t;                                  // tipo do elemento\n",
        "typedef vector<element_t> array_t;                      // tipo do array\n",
        "typedef tuple<int, int, std::chrono::duration<double>> loginfo_t;              // armazena informações de desempenho <trocas, comparações, tempo em ms>\n",
        "\n",
        "void selectionsort(array_t&, loginfo_t&);\n",
        "void heapsort(array_t&, loginfo_t&);\n",
        "void buildheap(array_t&, loginfo_t&);\n",
        "int filho_e(const array_t&, element_t);\n",
        "int filho_d(const array_t&, element_t);\n",
        "int pai(const array_t&, element_t);\n",
        "void heapify(array_t&, element_t, int, loginfo_t&);\n",
        "int heap_max(const array_t&, loginfo_t&);\n",
        "int extract_max(array_t&, loginfo_t&);\n",
        "void heap_insert(array_t&, element_t, loginfo_t&);\n",
        "void swap(element_t* n1, element_t* n2);\n",
        "\n",
        "int main(void){\n",
        "\n",
        "    loginfo_t loginfo;\n",
        "    int qtd;\n",
        "\n",
        "    \n",
        "\n",
        "    array_t array;                  \n",
        "    array_t array1;                  \n",
        "\n",
        "//<trocas, comparações, tempo em ms>\n",
        "//---------------------------------------------------------------------------------------------------------------------\n",
        "    \n",
        "    auto start = std::chrono::steady_clock::now();\n",
        "    auto finish = std::chrono::steady_clock::now();\n",
        "    std::chrono::duration<double> elapsed_seconds;\n",
        "    \n",
        "    cout << \"DECRESCENTE\" << endl; \n",
        "\n",
        "    //array crescente de 10000 elementos\n",
        "    cout << \"10000 elementos\" << endl; \n",
        "    for(auto i = 10000; i>0; i--){\n",
        "        array.push_back(i); \n",
        "    }\n",
        "\n",
        "    start = std::chrono::steady_clock::now();\n",
        "    \n",
        "    buildheap(array, loginfo);\n",
        "    heapsort(array, loginfo);\n",
        "    \n",
        "    finish = std::chrono::steady_clock::now();\n",
        "    elapsed_seconds = finish - start;\n",
        "    get<2>(loginfo) = elapsed_seconds; \n",
        "\n",
        "    cout << \"trocas = \" << get<0>(loginfo) << \"; \"; \n",
        "    cout << \"comparacoes = \" << get<1>(loginfo) << \"; \"; \n",
        "    cout << \"tempo = \" << get<2>(loginfo).count() << \"ms; \" << endl; \n",
        "    \n",
        "    return 0;\n",
        "}\n",
        "\n",
        "\n",
        "// =============================================================================================================================\n",
        "// Algoritmos de ordenação por Seleção\n",
        "\n",
        "// HEAPSORT \n",
        "void heapsort(array_t& array, loginfo_t& loginfo){\n",
        "    int trocas = 0;\n",
        "    int comparacoes = 0;\n",
        "    int heap_size = array.size();               // heap size retorna o  numero de elementos  do heap \n",
        "    int qtd_elementos = heap_size-1;            // qnt_elementos é o    numero de elementos  menos 1\n",
        "\n",
        "    buildheap(array, loginfo);                  // deixa em formato de heap\n",
        "\n",
        "\n",
        "    for(auto i = qtd_elementos; i>0; i--){      // vindo do último elemento, eu subtraio e percorro enquanto i nao é 0   \n",
        "        trocas++;                               // se sao 3 elementos, qnt = 2, itero 2 vezes, NUNCA chego no elemento array[0] primeiro\n",
        "       \n",
        "        swap(array[i], array[0]);               // troco o ultimo elemento do array com o primeiro do array[0]  (o primeiro é p ser o maior)\n",
        "        heap_size--;                            // diminuo o tamanho do array (era 3, 2)\n",
        "        heapify(array, 0, heap_size, loginfo);  // mando o array, o tamanho organizo. ele nao pega o ultimo elemento, q eu coloquei fora\n",
        "                                                // ele pega o elemento [0] q eu tinha trocado e organiza o heap p esse ter o maior de novo      \n",
        "\n",
        "    }\n",
        "    get<0>(loginfo)=trocas;\n",
        "    get<1>(loginfo)=comparacoes;\n",
        "}\n",
        "\n",
        "// HEAPSORT - Funcoes auxiliares\n",
        "void buildheap(array_t& array, loginfo_t& loginfo){\n",
        "    int ultimo_pai = (array.size()/2)-1;\n",
        "    for(auto i=ultimo_pai; i>=0; i--)\n",
        "        heapify(array, i, array.size(), loginfo);\n",
        "}\n",
        "  \n",
        "int filho_e(const array_t& array, element_t elemento){\n",
        "    return elemento*2+1;\n",
        "}\n",
        " \n",
        "int filho_d(const array_t& array, element_t elemento){\n",
        "    return elemento*2+2;\n",
        "}\n",
        " \n",
        "int pai(const array_t& array, element_t elemento){\n",
        "    return (elemento/2);\n",
        "}\n",
        " \n",
        "// heapify: verifica se o elemento na posição passada é um heap e se não for transforma-o em um\n",
        "// parâmetros: array, índice do elemento a heapificar, tamanho do heap, dicionário de logs\n",
        "// ou seja, coloca no lugar\n",
        "void heapify(array_t& array, element_t elemento, int heap_size, loginfo_t& loginfo){\n",
        "    // índice do elemento a ser reorganizado: recebe o 0 para o heapsort (pois é o que to mudando sempre)\n",
        "    //elemente_t eh do tipo int\n",
        "\n",
        "    element_t esq, dir, maior; \n",
        "\n",
        "    esq = filho_e(array, elemento);  \n",
        "    dir = filho_d(array, elemento);\n",
        "    maior = elemento;                   //se estivesse correto o índice do maior seria o 0\n",
        "\n",
        "    //aqui descubro qual filho é maior que o pai (ou se nenhum eh)\n",
        "    if ((esq < heap_size) & (array[esq] > array[maior])) //se esq eh valido e o valor e maior q o pai \n",
        "        maior = esq;\n",
        "    if ((dir < heap_size) & (array[dir] > array[maior]))\n",
        "        maior = dir; \n",
        "\n",
        "    if (maior != elemento) {\n",
        "        swap(array[elemento], array[maior]);\n",
        "        heapify(array, maior, heap_size, loginfo); //heapsize nao muda dentro da funcao, posso mandar o mesmo\n",
        "    }\n",
        "}\n",
        "\n",
        "\n",
        " \n",
        "//Máximo(S): Retorna o elemento de S com maior valor de chave\n",
        "int heap_max(array_t& heap, loginfo_t& loginfo){\n",
        "    return heap[0];\n",
        "}\n",
        "\n",
        "int extract_max(array_t& heap, loginfo_t& loginfo){    \n",
        "    int heap_size = heap.size(); \n",
        "    element_t max; \n",
        "\n",
        "    if(heap_size < 1)\n",
        "        cout << \"erro: heap underflow!\";  \n",
        "    max = heap[0]; \n",
        "    heap[0] = heap[heap_size]; \n",
        "    heap_size = heap_size-1;                    // assim ele tirou o 0 trocando com o ultimo \n",
        "    heapify (heap, 0, heap_size, loginfo);      // preciso arrumar o que eu troquei  \n",
        "    return max;                                 // retorno o valor máximo\n",
        "}\n",
        "\n",
        "void heap_insert(array_t& heap, element_t elemento, loginfo_t& loginfo){\n",
        "    int heap_size; \n",
        "    heap_size = heap.size() + 1;                // ja coloco o tamanho aumentado\n",
        "    \n",
        "    auto i = heap_size;\n",
        "\n",
        "    while ((i > 0) && heap[pai(heap, i)] < elemento) {\n",
        "        heap[i] = heap[pai(heap,i)];\n",
        "        i = pai(heap,i); \n",
        "    }\n",
        "    heap[i] = elemento; \n",
        "}\n",
        "\n",
        "//OUTRAS funcoes auxiliares\n",
        "//swap\n",
        "void swap(element_t* n1, element_t* n2){\n",
        "\tint troca = *n1;\n",
        "\t*n1 = *n2;\n",
        "\t*n2 = troca;\n",
        "}"
      ],
      "execution_count": 17,
      "outputs": [
        {
          "output_type": "stream",
          "name": "stdout",
          "text": [
            "Overwriting hs_test.cpp\n"
          ]
        }
      ]
    },
    {
      "cell_type": "code",
      "metadata": {
        "id": "XtqdXgNiRO2n"
      },
      "source": [
        "%%script bash\n",
        "g++ hs_test.cpp -o hs_test"
      ],
      "execution_count": 18,
      "outputs": []
    },
    {
      "cell_type": "code",
      "metadata": {
        "id": "nzww_QIyRO2s",
        "outputId": "cbc82de6-60b1-4424-d046-d4a5155feed5",
        "colab": {
          "base_uri": "https://localhost:8080/"
        }
      },
      "source": [
        "%%script bash\n",
        "./hs_test"
      ],
      "execution_count": 19,
      "outputs": [
        {
          "output_type": "stream",
          "name": "stdout",
          "text": [
            "DECRESCENTE\n",
            "10000 elementos\n",
            "trocas = 9999; comparacoes = 0; tempo = 0.00806935ms; \n"
          ]
        }
      ]
    },
    {
      "cell_type": "markdown",
      "source": [
        "  TESTE HEAPSORT\n",
        "\n",
        "    CRESCENTE\n",
        "    100 elementos\n",
        "    trocas = 99; comparacoes = 0; tempo = 7.18e-05ms; \n",
        "\n",
        "    CRESCENTE\n",
        "    1000 elementos\n",
        "    trocas = 999; comparacoes = 0; tempo = 0.00066443ms;\n",
        "\n",
        "    CRESCENTE\n",
        "    10000 elementos\n",
        "    trocas = 9999; comparacoes = 0; tempo = 0.00579099ms;  \n",
        "\n",
        "    DECRESCENTE\n",
        "    100 elementos\n",
        "    trocas = 99; comparacoes = 0; tempo = 3.7698e-05ms; \n",
        "\n",
        "    DECRESCENTE\n",
        "    1000 elementos\n",
        "    trocas = 999; comparacoes = 0; tempo = 0.000568995ms; \n",
        "\n",
        "    DECRESCENTE\n",
        "    10000 elementos\n",
        "    trocas = 9999; comparacoes = 0; tempo = 0.00806935ms; \n"
      ],
      "metadata": {
        "id": "Qi7c3RTIgWnP"
      }
    },
    {
      "cell_type": "markdown",
      "metadata": {
        "id": "nV8-K_7efYQI"
      },
      "source": [
        "## Exercício II: algoritmos de intercalação\n",
        "\n",
        "A seguir você encontra uma **versão do algoritmo de merge** e um exemplo de sua aplicação.\n",
        "\n",
        "Depois, há vários **algoritmos a implementar**, a saber:\n",
        "1. `two_way_merge`. \n",
        "2. `multi_way_merge`.\n",
        "2. `merge_sort`.\n",
        "\n",
        "Implemente-os conforme o comportamento esperado deles. Depois, teste-os com arrays criados por você. Não se esqueça que `two_way_merge` e `multi_way_merge` trabalham em cima de arrays previamente ordenados. Já o `merge_sort` aceita qualquer tipo de array. "
      ]
    },
    {
      "cell_type": "code",
      "metadata": {
        "id": "KwanVISofcnN",
        "colab": {
          "base_uri": "https://localhost:8080/"
        },
        "outputId": "f0cf3c79-cba2-4df2-8b14-6ddacf1e5887"
      },
      "source": [
        "%%writefile sorting4.cpp\n",
        "#include<iostream>\n",
        "#include<tuple>\n",
        "#include<string>\n",
        "#include<vector>\n",
        "#include<unordered_map>\n",
        "#include<bits/stdc++.h>\n",
        "#include<map>\n",
        "\n",
        "using namespace std;\n",
        "\n",
        "// Definições e variáveis globais necessárias\n",
        "typedef int element_t;                                                          // tipo do elemento\n",
        "typedef vector<element_t> array_t;                                              // tipo do array\n",
        "typedef tuple<int, int, double> loginfo_t;                                      // armazena informações de desempenho <trocas, comparações, tempo em ms>\n",
        "\n",
        "void merge(const array_t&, const array_t&, array_t&, loginfo_t&);\n",
        "void two_way_merge(const vector<array_t>, array_t&, loginfo_t&);\n",
        "void multi_way_merge(const vector<array_t>, array_t&, loginfo_t&);\n",
        "void mergesort(array_t&, loginfo_t&);\n",
        "void swap(element_t* n1, element_t* n2);\n",
        "void merge_aux(array_t&, int, int, int, loginfo_t&);\n",
        "void mergesort_aux(array_t&, int, int, loginfo_t&);\n",
        "\n",
        "int main(void){\n",
        "  loginfo_t loginfo;\n",
        "  int qtd;\n",
        "  array_t array1 = {1,2,4,6,7,8,15,22};\n",
        "  array_t array2 = {1,2,3,4,5,6,7,8,25,27,35,44};\n",
        "  array_t array3, array4;\n",
        "  array_t array5 = {10,9,8,7,6,5,4,3,2,1};\n",
        "\n",
        "  for(auto e:array1) cout << e << \" \";  \n",
        "  cout << endl;\n",
        "\n",
        "  for(auto e:array2) cout << e << \" \";  \n",
        "  cout << endl;\n",
        "\n",
        "  merge(array1, array2, array3, loginfo);\n",
        "  \n",
        "  for(auto e:array3) cout << e << \" \";  \n",
        "  cout << endl;\n",
        "\n",
        "  vector<array_t> arrays = { array1, array2, array3};\n",
        "  two_way_merge(arrays, array4, loginfo);\n",
        "  for(auto e:array4) cout << e << \" \";  \n",
        "  cout << endl;\n",
        "\n",
        "  multi_way_merge(arrays, array4, loginfo);\n",
        "  for(auto e:array4) cout << e << \" \";  \n",
        "  cout << endl;\n",
        "\n",
        "  mergesort(array5, loginfo);\n",
        "  for(auto e:array5) cout << e << \" \";  \n",
        "  cout << endl;\n",
        "\n",
        "  // TODO: mostrar log de operações\n",
        "\n",
        "  return 0;\n",
        "}\n",
        "\n",
        "// ################################################\n",
        "// Algoritmos de intercalação\n",
        "// ################################################\n",
        "void merge(const array_t& array1, const array_t& array2, array_t& array_final, loginfo_t& loginfo){\n",
        "    int i = 0, j = 0, trocas = 0, comparacoes = 0;\n",
        "    int qtd_a1 = array1.size();\n",
        "    int qtd_a2 = array2.size();\n",
        "    \n",
        "    bool elementos = true;\n",
        "    array_final.clear();    \n",
        "    while(i<qtd_a1 && j<qtd_a2){\n",
        "       if(array1[i] <= array2[j])\n",
        "          array_final.push_back(array1[i++]);          \n",
        "       else\n",
        "          array_final.push_back(array2[j++]);       \n",
        "    }\n",
        "    \n",
        "    if(j<qtd_a2 && i>=qtd_a1)                                                   // array 1 terminou\n",
        "       for(auto e=j;e<qtd_a2;e++)\n",
        "          array_final.push_back(array2[e]);\n",
        "    \n",
        "    if(i<qtd_a1 && j>=qtd_a2)                                                   // array 2 terminou\n",
        "       for(auto e=i;e<qtd_a1;e++)\n",
        "          array_final.push_back(array1[e]);\n",
        "\n",
        "    // TODO: atualizar loginfo\n",
        "}\n",
        "\n",
        "// Recebe uma lista de arrays e intercala-os 2 a 2\n",
        "// retorna um array com o resultado da intercalação\n",
        "void two_way_merge(const vector<array_t> arrays, array_t& array_final, loginfo_t& loginfo){   \n",
        "  // TODO: implementar\n",
        "}\n",
        "\n",
        "void mergesort(array_t& array, loginfo_t& loginfo){\n",
        "  // TODO: implementar\n",
        "}\n",
        "\n",
        "// Recebe uma lista de arrays e intercala-os usando estrutura similar a heap-min\n",
        "void multi_way_merge(const vector<array_t> arrays, array_t& array_final, loginfo_t& loginfo){            \n",
        "    // TODO: implementar    \n",
        "}"
      ],
      "execution_count": null,
      "outputs": [
        {
          "output_type": "stream",
          "name": "stdout",
          "text": [
            "Overwriting sorting4.cpp\n"
          ]
        }
      ]
    },
    {
      "cell_type": "code",
      "metadata": {
        "id": "sxcmf4Ddfcp0"
      },
      "source": [
        "%%script bash\n",
        "g++ sorting4.cpp -o sorting4"
      ],
      "execution_count": null,
      "outputs": []
    },
    {
      "cell_type": "code",
      "metadata": {
        "id": "D7m3MDKSAYh0"
      },
      "source": [
        "%%script bash\n",
        "./sorting4"
      ],
      "execution_count": null,
      "outputs": []
    },
    {
      "cell_type": "markdown",
      "source": [
        "## Exercício 3: Avaliação do desempenho do `merge_sort`\n",
        "\n",
        "Utilizando o `merge_sort` que você implementou acima, faça uma análise de desempenho dele para arrays de tamanho 100, 1000 e 10000, tanto crescentes quanto decrescentes. Registre o tempo de processamento, a quantidade de trocas e a quantidade de comparações.\n"
      ],
      "metadata": {
        "id": "5uFnDGXxgkuS"
      }
    },
    {
      "cell_type": "code",
      "source": [
        "%%writefile ms_test.cpp\n",
        "// TODO: implementar"
      ],
      "metadata": {
        "id": "GFZ15GtegwoJ",
        "colab": {
          "base_uri": "https://localhost:8080/"
        },
        "outputId": "f2ab6b44-e146-481f-a886-f5e27ef9c00d"
      },
      "execution_count": null,
      "outputs": [
        {
          "output_type": "stream",
          "name": "stdout",
          "text": [
            "Overwriting ms_test.cpp\n"
          ]
        }
      ]
    },
    {
      "cell_type": "code",
      "source": [
        "%%script bash\n",
        "g++ ms_test.cpp -o ms_test\n",
        "./ms_test"
      ],
      "metadata": {
        "id": "xUYGshkyZBSJ"
      },
      "execution_count": null,
      "outputs": []
    },
    {
      "cell_type": "markdown",
      "metadata": {
        "id": "r9F_wrkCgla5"
      },
      "source": [
        "## Parte IV: algoritmos de tempo linear\n",
        "\n",
        "Implemente os algoritmos:\n",
        "\n",
        "1. `RADIX-sort LSD` \n",
        "2. `RADIX-sort MSD` \n",
        "3. `CountingSort`\n",
        "\n",
        "Depois, teste o seu desempenho (tempo de processmento) para ordenar um array decrescente de 100 elementos."
      ]
    },
    {
      "cell_type": "code",
      "metadata": {
        "id": "crUvj3dIgkzc"
      },
      "source": [],
      "execution_count": null,
      "outputs": []
    }
  ]
}