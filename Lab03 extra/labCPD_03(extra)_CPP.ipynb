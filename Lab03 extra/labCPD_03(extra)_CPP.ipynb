{
  "nbformat": 4,
  "nbformat_minor": 0,
  "metadata": {
    "kernelspec": {
      "display_name": "Python 3",
      "language": "python",
      "name": "python3"
    },
    "language_info": {
      "codemirror_mode": {
        "name": "ipython",
        "version": 3
      },
      "file_extension": ".py",
      "mimetype": "text/x-python",
      "name": "python",
      "nbconvert_exporter": "python",
      "pygments_lexer": "ipython3",
      "version": "3.7.3"
    },
    "colab": {
      "provenance": [],
      "include_colab_link": true
    }
  },
  "cells": [
    {
      "cell_type": "markdown",
      "metadata": {
        "id": "view-in-github",
        "colab_type": "text"
      },
      "source": [
        "<a href=\"https://colab.research.google.com/github/ju-vargas/Arquitetura-de-Computadores-I/blob/main/labCPD_03(extra)_CPP.ipynb\" target=\"_parent\"><img src=\"https://colab.research.google.com/assets/colab-badge.svg\" alt=\"Open In Colab\"/></a>"
      ]
    },
    {
      "cell_type": "markdown",
      "metadata": {
        "id": "LTM-tQSzRO2b"
      },
      "source": [
        "# Disciplina de Classificação e Pesquisa de Dados\n",
        " \n",
        "# Laboratório #3\n",
        " \n",
        "### Implementação (em C++) dos principais algoritmos de classificação por seleção."
      ]
    },
    {
      "cell_type": "markdown",
      "metadata": {
        "id": "AkA1bR3jUN8v"
      },
      "source": [
        "A seguir você encontra uma **versão local do algoritmo heapsort**. Ele utiliza o buildheap que constrói um max-heap a partir do array passado (lembre-se que um max-heap é aquele que tem o maior elemento na raíz, i.e., os pais são maiores ou iguais aos filhos). Você **também encontra funções auxiliares para identificar o filho esquerdo, o filho direito e o pai de um elemento** no array (heap).\n",
        "\n",
        "O exercício consiste em:\n",
        "\n",
        "1. **implementar a função heapify**, que é usada pelos algoritmos buildheap e heapsort. Lembre-se que ela deve garantir que toda a subárvore é um heap (do elemento passado até a folha), e é normalmente implementada de maneira recursiva. \n",
        "2. **implementar a função 'heap_max', 'extract_max' e 'insert_heap'**. A primeira devolve o primeiro elemento do heap (sem retirá-lo), operando em *O*(1). A segunda devolve e extrai o primeiro elemento do heap, colocando um elemento substituto no lugar em *O*(log *n*), garantindo que o array continua sendo um heap. A última insere um elemento no heap em *O*(log *n*), mantendo as propriedades de heap do array.\n",
        "\n",
        "Para que possamos avaliar o desempenho dos algoritmos implementados e identificarmos as melhores maneiras de resolver os problemas, vamos desenvolver alternativas. Para tanto:\n",
        "\n",
        "4. **Elabore uma versão de build-heap** que constroi o heap de cima para baixo ao invés de baixo para cima. Para tanto, ela deve fazer heapify do primeiro ao último elemento pai (e não do último pai para a raíz). Analise qual versão apresenta melhor desempenho (a original ou a alternativa) em termos de comparações e trocas. Se desejar, elabore (e compare) também alguma versão diferente, com base em alguma ideia sua. \n",
        "\n",
        "5. **Analise o desempenho** (tempo, comparações e trocas) **do heap-sort tradicional**, em arrays crescentes e decrescentes, de 100, 1000 e 10000 elementos**. \n",
        "\n",
        "6. **Use a função build-heap tradicional e a alternativa (exercício 4)** para transformar um pequeno array aleatório (criado por você, com não mais do que 16 elementos) em heaps. \n",
        "\n",
        "**Desafios (exercícios extras)**: \n",
        "1. elabore a função **iteractive-build-heap**, que constrói um heap inserindo elemento por elemento em um array auxiliar (ou seja, não é local). Analise qual versão apresenta melhor desempenho (a iterativa não local ou a tradicional, local), avaliando o número de trocas e de comparações.\n",
        "2. **implementar um 'min-heap'**, que é um heap invertido, ou seja, que tem o menor elemento na raiz (e os pais são menores ou iguais aos filhos)."
      ]
    },
    {
      "cell_type": "code",
      "metadata": {
        "id": "nOWvfug_RO2l",
        "colab": {
          "base_uri": "https://localhost:8080/"
        },
        "outputId": "64b0f121-6c67-42f9-b9b1-9a4dc85c67c9"
      },
      "source": [
        "%%writefile sorting3.cpp\n",
        "#include<iostream>\n",
        "#include<tuple>\n",
        "#include<string>\n",
        "#include<vector>\n",
        "#include<unordered_map>\n",
        "#include<bits/stdc++.h>\n",
        "#include<map>\n",
        "\n",
        "using namespace std;\n",
        "\n",
        "// Definições e variáveis globais necessárias\n",
        "typedef int element_t;                                                          // tipo do elemento\n",
        "typedef vector<element_t> array_t;                                              // tipo do array\n",
        "typedef tuple<int, int, double> loginfo_t;                                      // armazena informações de desempenho <trocas, comparações, tempo em ms>\n",
        "\n",
        "void selectionsort(array_t&, loginfo_t&);\n",
        "void heapsort(array_t&, loginfo_t&);\n",
        "void buildheap(array_t&, loginfo_t&);\n",
        "int filho_e(const array_t&, element_t);\n",
        "int filho_d(const array_t&, element_t);\n",
        "int pai(const array_t&, element_t);\n",
        "void heapify(array_t&, element_t, int, loginfo_t&);\n",
        "int heap_max(const array_t&, loginfo_t&);\n",
        "int extract_max(array_t&, loginfo_t&);\n",
        "void heap_insert(array_t&, element_t, loginfo_t&);\n",
        "void swap(element_t* n1, element_t* n2);\n",
        "\n",
        "int main(void){\n",
        "  loginfo_t loginfo;\n",
        "  int qtd;\n",
        "  array_t array1 = {1,2,3,4,5,6,7,8};\n",
        "\n",
        "  buildheap(array1, loginfo);\n",
        "  \n",
        "  for(auto e:array1)\n",
        "     cout << e << \" \";  \n",
        "  cout << endl;\n",
        "\n",
        "  array_t array2 = {9,8,7,6,5,4,3,1};\n",
        "  heapsort(array2, loginfo);\n",
        "\n",
        "  for(auto e:array2)\n",
        "     cout << e << \" \";  \n",
        "  cout << endl;\n",
        "\n",
        "  return 0;\n",
        "}\n",
        "\n",
        "// ################################################\n",
        "// Algoritmos de ordenação por Seleção\n",
        "// ################################################\n",
        " \n",
        "// Seleção direta \n",
        "void selectionsort(array_t& array, loginfo_t& loginfo){\n",
        "   int trocas = 0;\n",
        "   int comparacoes = 0;\n",
        "   element_t menorchave;\n",
        "   int qtd_elementos = array.size()-1;  \n",
        "\n",
        "   for(auto i=0; i<qtd_elementos;i++){\n",
        "      menorchave = i;\n",
        "      for(auto j=i; j<qtd_elementos+1; j++){                   \n",
        "         comparacoes = comparacoes + 1;\n",
        "         if(array[j] < array[menorchave]){ \n",
        "            menorchave = j;\n",
        "         }\n",
        "      }   \n",
        "      if(menorchave != i){\n",
        "         swap(array[i], array[menorchave]);\n",
        "         trocas = trocas + 1;\n",
        "      }\n",
        "   }\n",
        "   get<0>(loginfo)=trocas;\n",
        "   get<1>(loginfo)=comparacoes;\n",
        "} \n",
        "\n",
        "// Heapsort e funções auxiliares\n",
        "void heapsort(array_t& array, loginfo_t& loginfo){\n",
        "   int trocas = 0;\n",
        "   int comparacoes = 0;\n",
        "   int heap_size = array.size();\n",
        "   int qtd_elementos = heap_size-1;   \n",
        "    \n",
        "   buildheap(array, loginfo);\n",
        "    \n",
        "   for(auto i = qtd_elementos; i>0; i--){\n",
        "      trocas++;\n",
        "      swap(array[i], array[0]);\n",
        "      heap_size--;\n",
        "      heapify(array, 0, heap_size, loginfo); \n",
        "   }\n",
        "   get<0>(loginfo)=trocas;\n",
        "   get<1>(loginfo)=comparacoes;\n",
        "}\n",
        "\n",
        "// usada no heapsort\n",
        "void buildheap(array_t& array, loginfo_t& loginfo){\n",
        "   int ultimo_pai = (array.size()/2)-1;\n",
        "   for(auto i=ultimo_pai; i>0; i--)\n",
        "      heapify(array, i, array.size(), loginfo);\n",
        "}\n",
        "  \n",
        "int filho_e(const array_t& array, element_t elemento){\n",
        "   return elemento*2+1;\n",
        "}\n",
        " \n",
        "int filho_d(const array_t& array, element_t elemento){\n",
        "   return elemento*2+2;\n",
        "}\n",
        " \n",
        "int pai(const array_t& array, element_t elemento){\n",
        "   return (elemento/2);\n",
        "}\n",
        " \n",
        "// ################################################\n",
        "// Implementação dos seus algoritmos:\n",
        "   \n",
        "// heapify: verifica se o elemento na posição passada é um heap e se não for transforma-o em um\n",
        "// parâmetros: array, índice do elemento a heapificar, tamanho do heap, dicionário de logs\n",
        "void heapify(array_t& array, element_t elemento, int heap_size, loginfo_t& loginfo){\n",
        "    // a implementar\n",
        "}\n",
        " \n",
        "int heap_max(array_t& heap, loginfo_t& loginfo){\n",
        "    // A implementar!    \n",
        "    return -1;\n",
        "}\n",
        "\n",
        "int extract_max(array_t& heap, loginfo_t& loginfo){    \n",
        "   // A implementar!\n",
        "   return -1;\n",
        "}\n",
        " \n",
        "void heap_insert(array_t& heap, element_t elemento, loginfo_t& loginfo){\n",
        "   // A implementar!\n",
        "}"
      ],
      "execution_count": null,
      "outputs": [
        {
          "output_type": "stream",
          "text": [
            "Writing sorting3.cpp\n"
          ],
          "name": "stdout"
        }
      ]
    },
    {
      "cell_type": "code",
      "metadata": {
        "id": "XtqdXgNiRO2n"
      },
      "source": [
        "%%script bash\n",
        "g++ sorting3.cpp -o sorting3"
      ],
      "execution_count": null,
      "outputs": []
    },
    {
      "cell_type": "code",
      "metadata": {
        "id": "nzww_QIyRO2s",
        "colab": {
          "base_uri": "https://localhost:8080/"
        },
        "outputId": "1b368ac2-bd76-4ed5-8b66-ab301f5861aa"
      },
      "source": [
        "%%script bash\n",
        "./sorting3"
      ],
      "execution_count": null,
      "outputs": [
        {
          "output_type": "stream",
          "text": [
            "1 2 3 4 5 6 7 8 \n",
            "8 7 6 5 4 3 1 9 \n"
          ],
          "name": "stdout"
        }
      ]
    },
    {
      "cell_type": "code",
      "metadata": {
        "id": "qBtULE7qG0ye"
      },
      "source": [],
      "execution_count": null,
      "outputs": []
    },
    {
      "cell_type": "markdown",
      "source": [
        "##How To"
      ],
      "metadata": {
        "id": "OT8g9FMaH2gD"
      }
    },
    {
      "cell_type": "markdown",
      "source": [
        "### O que é HEAPSORT?\n",
        "\n",
        "Espécie de algoritmo de seleção. Seleciono o maior/menor elemento e coloco em seu lugar. \n",
        "\n",
        "Heap = array visto como árvore binária. De preferência, não crio estrutura nova para a árvore. \n",
        "\n",
        "\n",
        "#\n",
        "1 BUILD HEAP\n",
        "Transforma o array em MaxHeap (heap em que os pais são sempre maiores ou iguais)\n",
        "\n",
        "\n",
        "#\n",
        "2 DESTRÓI HEAP\n",
        "Destruir o array, ordenando-o. \n",
        "\n",
        "    - troca última folha (ultimo index do array da árvore) com o topo, e tira o topo da árvore, inserindo no último index do array ordenado\n",
        "    - ordena de novo pra virar MAX HEAP\n",
        "    - repete até a árvore ficar vazia \n",
        "\n"
      ],
      "metadata": {
        "id": "PHxinijgIo21"
      }
    },
    {
      "cell_type": "markdown",
      "source": [
        "![image.png](data:image/png;base64,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)"
      ],
      "metadata": {
        "id": "ZmCwvjHfJ0wo"
      }
    }
  ]
}