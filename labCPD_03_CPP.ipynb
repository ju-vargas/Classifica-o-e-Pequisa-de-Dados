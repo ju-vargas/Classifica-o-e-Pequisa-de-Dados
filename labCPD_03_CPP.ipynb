{
  "nbformat": 4,
  "nbformat_minor": 0,
  "metadata": {
    "kernelspec": {
      "display_name": "Python 3",
      "language": "python",
      "name": "python3"
    },
    "language_info": {
      "codemirror_mode": {
        "name": "ipython",
        "version": 3
      },
      "file_extension": ".py",
      "mimetype": "text/x-python",
      "name": "python",
      "nbconvert_exporter": "python",
      "pygments_lexer": "ipython3",
      "version": "3.7.3"
    },
    "colab": {
      "provenance": [],
      "include_colab_link": true
    }
  },
  "cells": [
    {
      "cell_type": "markdown",
      "metadata": {
        "id": "view-in-github",
        "colab_type": "text"
      },
      "source": [
        "<a href=\"https://colab.research.google.com/github/ju-vargas/Classificacao-e-Pesquisa-de-Dados/blob/main/labCPD_03_CPP.ipynb\" target=\"_parent\"><img src=\"https://colab.research.google.com/assets/colab-badge.svg\" alt=\"Open In Colab\"/></a>"
      ]
    },
    {
      "cell_type": "markdown",
      "metadata": {
        "id": "LTM-tQSzRO2b"
      },
      "source": [
        "# Disciplina de Classificação e Pesquisa de Dados\n",
        " \n",
        "# Laboratório #3 - Final\n",
        " \n",
        "### Implementação e comparação (em C++) dos principais algoritmos de classificação por seleção, intercalação e lineares."
      ]
    },
    {
      "cell_type": "markdown",
      "metadata": {
        "id": "AkA1bR3jUN8v"
      },
      "source": [
        "## Exercício I: algoritmos de seleção (Heapsort e relacionados)\n",
        "\n",
        "Utilizando a versão padrão do `heapsort` que você implementou na aula sobre \"**Classificação por seleção: parte 2**\", faça uma análise de desempenho dele para arrays de tamanho 100, 1000 e 10000, tanto crescentes quanto decrescentes. Registre o tempo de processamento, a quantidade de trocas e a quantidade de comparaçoes.\n",
        "\n",
        "Se você não elaborou o algoritmo naquela ocasião, implemente-o agora. Não se esqueça de que ele é um algoritmo local e que usa funções auxiliares (as quais estão disponíveis no material daquela aula). Você pode usar suas próprias funções ou estruturá-lo de outra forma, se desejar, mas ele deve seguir as mesmas regras e preceitos.\n",
        "\n",
        "Observação: naquela aula não foi solicitado o encaminhamento dos exercícios. Haviam outras tarefas e comparações. Se você desejar um feedback sobre elas, encaminhe suas soluções ao final deste arquivo."
      ]
    },
    {
      "cell_type": "code",
      "metadata": {
        "id": "nOWvfug_RO2l",
        "colab": {
          "base_uri": "https://localhost:8080/"
        },
        "outputId": "1a5259ae-eee0-4c8c-b88d-f1f1a088831e"
      },
      "source": [
        "%%writefile hs_test.cpp\n",
        "// Escreva aqui seu algoritmo"
      ],
      "execution_count": null,
      "outputs": [
        {
          "output_type": "stream",
          "name": "stdout",
          "text": [
            "Writing hs_test.cpp\n"
          ]
        }
      ]
    },
    {
      "cell_type": "code",
      "metadata": {
        "id": "XtqdXgNiRO2n"
      },
      "source": [
        "%%script bash\n",
        "g++ hs_test.cpp -o hs_test"
      ],
      "execution_count": null,
      "outputs": []
    },
    {
      "cell_type": "code",
      "metadata": {
        "id": "nzww_QIyRO2s"
      },
      "source": [
        "%%script bash\n",
        "./hs_test"
      ],
      "execution_count": null,
      "outputs": []
    },
    {
      "cell_type": "markdown",
      "metadata": {
        "id": "nV8-K_7efYQI"
      },
      "source": [
        "## Exercício II: algoritmos de intercalação\n",
        "\n",
        "A seguir você encontra uma **versão do algoritmo de merge** e um exemplo de sua aplicação.\n",
        "\n",
        "Depois, há vários **algoritmos a implementar**, a saber:\n",
        "1. `two_way_merge`. \n",
        "2. `multi_way_merge`.\n",
        "2. `merge_sort`.\n",
        "\n",
        "Implemente-os conforme o comportamento esperado deles. Depois, teste-os com arrays criados por você. Não se esqueça que `two_way_merge` e `multi_way_merge` trabalham em cima de arrays previamente ordenados. Já o `merge_sort` aceita qualquer tipo de array. "
      ]
    },
    {
      "cell_type": "code",
      "metadata": {
        "id": "KwanVISofcnN",
        "colab": {
          "base_uri": "https://localhost:8080/"
        },
        "outputId": "f0cf3c79-cba2-4df2-8b14-6ddacf1e5887"
      },
      "source": [
        "%%writefile sorting4.cpp\n",
        "#include<iostream>\n",
        "#include<tuple>\n",
        "#include<string>\n",
        "#include<vector>\n",
        "#include<unordered_map>\n",
        "#include<bits/stdc++.h>\n",
        "#include<map>\n",
        "\n",
        "using namespace std;\n",
        "\n",
        "// Definições e variáveis globais necessárias\n",
        "typedef int element_t;                                                          // tipo do elemento\n",
        "typedef vector<element_t> array_t;                                              // tipo do array\n",
        "typedef tuple<int, int, double> loginfo_t;                                      // armazena informações de desempenho <trocas, comparações, tempo em ms>\n",
        "\n",
        "void merge(const array_t&, const array_t&, array_t&, loginfo_t&);\n",
        "void two_way_merge(const vector<array_t>, array_t&, loginfo_t&);\n",
        "void multi_way_merge(const vector<array_t>, array_t&, loginfo_t&);\n",
        "void mergesort(array_t&, loginfo_t&);\n",
        "void swap(element_t* n1, element_t* n2);\n",
        "void merge_aux(array_t&, int, int, int, loginfo_t&);\n",
        "void mergesort_aux(array_t&, int, int, loginfo_t&);\n",
        "\n",
        "int main(void){\n",
        "  loginfo_t loginfo;\n",
        "  int qtd;\n",
        "  array_t array1 = {1,2,4,6,7,8,15,22};\n",
        "  array_t array2 = {1,2,3,4,5,6,7,8,25,27,35,44};\n",
        "  array_t array3, array4;\n",
        "  array_t array5 = {10,9,8,7,6,5,4,3,2,1};\n",
        "\n",
        "  for(auto e:array1) cout << e << \" \";  \n",
        "  cout << endl;\n",
        "\n",
        "  for(auto e:array2) cout << e << \" \";  \n",
        "  cout << endl;\n",
        "\n",
        "  merge(array1, array2, array3, loginfo);\n",
        "  \n",
        "  for(auto e:array3) cout << e << \" \";  \n",
        "  cout << endl;\n",
        "\n",
        "  vector<array_t> arrays = { array1, array2, array3};\n",
        "  two_way_merge(arrays, array4, loginfo);\n",
        "  for(auto e:array4) cout << e << \" \";  \n",
        "  cout << endl;\n",
        "\n",
        "  multi_way_merge(arrays, array4, loginfo);\n",
        "  for(auto e:array4) cout << e << \" \";  \n",
        "  cout << endl;\n",
        "\n",
        "  mergesort(array5, loginfo);\n",
        "  for(auto e:array5) cout << e << \" \";  \n",
        "  cout << endl;\n",
        "\n",
        "  // TODO: mostrar log de operações\n",
        "\n",
        "  return 0;\n",
        "}\n",
        "\n",
        "// ################################################\n",
        "// Algoritmos de intercalação\n",
        "// ################################################\n",
        "void merge(const array_t& array1, const array_t& array2, array_t& array_final, loginfo_t& loginfo){\n",
        "    int i = 0, j = 0, trocas = 0, comparacoes = 0;\n",
        "    int qtd_a1 = array1.size();\n",
        "    int qtd_a2 = array2.size();\n",
        "    \n",
        "    bool elementos = true;\n",
        "    array_final.clear();    \n",
        "    while(i<qtd_a1 && j<qtd_a2){\n",
        "       if(array1[i] <= array2[j])\n",
        "          array_final.push_back(array1[i++]);          \n",
        "       else\n",
        "          array_final.push_back(array2[j++]);       \n",
        "    }\n",
        "    \n",
        "    if(j<qtd_a2 && i>=qtd_a1)                                                   // array 1 terminou\n",
        "       for(auto e=j;e<qtd_a2;e++)\n",
        "          array_final.push_back(array2[e]);\n",
        "    \n",
        "    if(i<qtd_a1 && j>=qtd_a2)                                                   // array 2 terminou\n",
        "       for(auto e=i;e<qtd_a1;e++)\n",
        "          array_final.push_back(array1[e]);\n",
        "\n",
        "    // TODO: atualizar loginfo\n",
        "}\n",
        "\n",
        "// Recebe uma lista de arrays e intercala-os 2 a 2\n",
        "// retorna um array com o resultado da intercalação\n",
        "void two_way_merge(const vector<array_t> arrays, array_t& array_final, loginfo_t& loginfo){   \n",
        "  // TODO: implementar\n",
        "}\n",
        "\n",
        "void mergesort(array_t& array, loginfo_t& loginfo){\n",
        "  // TODO: implementar\n",
        "}\n",
        "\n",
        "// Recebe uma lista de arrays e intercala-os usando estrutura similar a heap-min\n",
        "void multi_way_merge(const vector<array_t> arrays, array_t& array_final, loginfo_t& loginfo){            \n",
        "    // TODO: implementar    \n",
        "}"
      ],
      "execution_count": null,
      "outputs": [
        {
          "output_type": "stream",
          "name": "stdout",
          "text": [
            "Overwriting sorting4.cpp\n"
          ]
        }
      ]
    },
    {
      "cell_type": "code",
      "metadata": {
        "id": "sxcmf4Ddfcp0"
      },
      "source": [
        "%%script bash\n",
        "g++ sorting4.cpp -o sorting4"
      ],
      "execution_count": null,
      "outputs": []
    },
    {
      "cell_type": "code",
      "metadata": {
        "id": "D7m3MDKSAYh0"
      },
      "source": [
        "%%script bash\n",
        "./sorting4"
      ],
      "execution_count": null,
      "outputs": []
    },
    {
      "cell_type": "markdown",
      "source": [
        "## Exercício 3: Avaliação do desempenho do `merge_sort`\n",
        "\n",
        "Utilizando o `merge_sort` que você implementou acima, faça uma análise de desempenho dele para arrays de tamanho 100, 1000 e 10000, tanto crescentes quanto decrescentes. Registre o tempo de processamento, a quantidade de trocas e a quantidade de comparações.\n"
      ],
      "metadata": {
        "id": "5uFnDGXxgkuS"
      }
    },
    {
      "cell_type": "code",
      "source": [
        "%%writefile ms_test.cpp\n",
        "// TODO: implementar"
      ],
      "metadata": {
        "id": "GFZ15GtegwoJ",
        "colab": {
          "base_uri": "https://localhost:8080/"
        },
        "outputId": "f2ab6b44-e146-481f-a886-f5e27ef9c00d"
      },
      "execution_count": null,
      "outputs": [
        {
          "output_type": "stream",
          "name": "stdout",
          "text": [
            "Overwriting ms_test.cpp\n"
          ]
        }
      ]
    },
    {
      "cell_type": "code",
      "source": [
        "%%script bash\n",
        "g++ ms_test.cpp -o ms_test\n",
        "./ms_test"
      ],
      "metadata": {
        "id": "xUYGshkyZBSJ"
      },
      "execution_count": null,
      "outputs": []
    },
    {
      "cell_type": "markdown",
      "metadata": {
        "id": "r9F_wrkCgla5"
      },
      "source": [
        "## Parte IV: algoritmos de tempo linear\n",
        "\n",
        "Implemente os algoritmos:\n",
        "\n",
        "1. `RADIX-sort LSD` \n",
        "2. `RADIX-sort MSD` \n",
        "3. `CountingSort`\n",
        "\n",
        "Depois, teste o seu desempenho (tempo de processmento) para ordenar um array decrescente de 100 elementos."
      ]
    },
    {
      "cell_type": "code",
      "metadata": {
        "id": "crUvj3dIgkzc"
      },
      "source": [],
      "execution_count": null,
      "outputs": []
    }
  ]
}